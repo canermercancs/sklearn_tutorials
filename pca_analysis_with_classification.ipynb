{
 "cells": [
  {
   "cell_type": "code",
   "execution_count": null,
   "metadata": {},
   "outputs": [],
   "source": [
    "import numpy as np\n",
    "import matplotlib.pyplot as plt\n",
    "from sklearn import datasets\n",
    "from sklearn.decomposition import PCA\n",
    "from sklearn.model_selection import train_test_split\n",
    "from sklearn.model_selection import GridSearchCV\n",
    "from sklearn import svm, neural_network as NN"
   ]
  },
  {
   "cell_type": "code",
   "execution_count": null,
   "metadata": {
    "collapsed": true
   },
   "outputs": [],
   "source": [
    "brcc_data = datasets.load_breast_cancer()\n",
    "X, y = brcc_data['data'], brcc_data['target']"
   ]
  },
  {
   "cell_type": "code",
   "execution_count": null,
   "metadata": {},
   "outputs": [],
   "source": [
    "X_tr, X_ts, y_tr, y_ts = train_test_split(X,y,test_size=0.25)"
   ]
  },
  {
   "cell_type": "code",
   "execution_count": null,
   "metadata": {},
   "outputs": [],
   "source": [
    "pca = PCA().fit(X_tr)\n",
    "n_comps = 1\n",
    "exp_var = pca.explained_variance_[0:n_comps].sum() / pca.explained_variance_.sum()\n",
    "while exp_var < 0.999:\n",
    "    n_comps += 1  \n",
    "    exp_var = pca.explained_variance_[0:n_comps].sum() / pca.explained_variance_.sum()\n",
    "pca.n_components = n_comps"
   ]
  },
  {
   "cell_type": "code",
   "execution_count": null,
   "metadata": {},
   "outputs": [],
   "source": [
    "X_tr_pca = pca.fit_transform(X_tr)\n",
    "X_ts_pca = pca.fit_transform(X_ts)"
   ]
  },
  {
   "cell_type": "code",
   "execution_count": null,
   "metadata": {},
   "outputs": [],
   "source": [
    "params = {'hidden_layer_sizes':range(10,100,10), 'activation':('tanh', 'relu') }\n",
    "nnet = NN.MLPClassifier()\n",
    "clsf1 = GridSearchCV(nnet, params)\n",
    "\n",
    "params = {'kernel':('linear','rbf'), 'C':[1,10,100]}\n",
    "svc = svm.SVC()\n",
    "clsf2 = GridSearchCV(svc, params)"
   ]
  },
  {
   "cell_type": "code",
   "execution_count": null,
   "metadata": {},
   "outputs": [],
   "source": [
    "clsf1.fit(X_tr_pca, y_tr)\n",
    "clsf2.fit(X_tr_pca, y_tr)"
   ]
  },
  {
   "cell_type": "code",
   "execution_count": null,
   "metadata": {},
   "outputs": [],
   "source": [
    "clsf1.score(X_ts_pca, y_ts)\n",
    "clsf2.score(X_ts_pca, y_ts)"
   ]
  },
  {
   "cell_type": "code",
   "execution_count": null,
   "metadata": {
    "collapsed": true
   },
   "outputs": [],
   "source": []
  }
 ],
 "metadata": {
  "kernelspec": {
   "display_name": "Python 3",
   "language": "python",
   "name": "python3"
  },
  "language_info": {
   "codemirror_mode": {
    "name": "ipython",
    "version": 3
   },
   "file_extension": ".py",
   "mimetype": "text/x-python",
   "name": "python",
   "nbconvert_exporter": "python",
   "pygments_lexer": "ipython3",
   "version": "3.6.4"
  }
 },
 "nbformat": 4,
 "nbformat_minor": 2
}
